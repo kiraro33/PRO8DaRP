{
 "cells": [
  {
   "cell_type": "code",
   "execution_count": 24,
   "metadata": {
    "collapsed": true
   },
   "outputs": [],
   "source": [
    "import skynet.api.v20.methods.exps as exps\n",
    "import skynet.api.v20.methods.obs as obs\n",
    "import skynet.api.v20.methods.users as user\n",
    "import skynet.api.v20.methods.download as dl\n",
    "from astropy.io import fits\n",
    "import os, sys"
   ]
  },
  {
   "cell_type": "code",
   "execution_count": 25,
   "metadata": {
    "collapsed": true
   },
   "outputs": [],
   "source": [
    "TOKEN = 'bKe8NkMXnY0nBFysARKf4Cyr64xSJQpyjLZlrJjiFf'  #orarik\n",
    "TOKEN2 = 'DpovQckhvTOKqVXwlYHHdM6hCi55FFN8Z8eAELHiQo' #admin\n",
    "\n",
    "#WORKING_DIR = '/home/orarik/Thesis/Prompt8_images/'\n",
    "#START_DATE = '2016-08-01T13:00:00'\n",
    "#BEFORE_DATE = '2016-08-30T04:00:00'\n",
    "START_DATE = '2017-12-03T13:00:00'\n",
    "BEFORE_DATE = '2017-12-04T04:00:00'\n",
    "\n",
    "FLAT_WRITE_DIR = WORKING_DIR + 'raw_flat_test/'\n",
    "DARK_WRITE_DIR = WORKING_DIR + 'raw_dark/'\n",
    "BIAS_WRITE_DIR = WORKING_DIR + 'raw_bias/'\n",
    "\n",
    "if not os.path.exists(WORKING_DIR):\n",
    "    os.makedirs(WORKING_DIR)\n",
    "if not os.path.exists(FLAT_WRITE_DIR):\n",
    "    os.makedirs(FLAT_WRITE_DIR)\n",
    "if not os.path.exists(DARK_WRITE_DIR):\n",
    "    os.makedirs(DARK_WRITE_DIR)\n",
    "if not os.path.exists(BIAS_WRITE_DIR):\n",
    "    os.makedirs(BIAS_WRITE_DIR)"
   ]
  },
  {
   "cell_type": "code",
   "execution_count": 22,
   "metadata": {},
   "outputs": [
    {
     "name": "stdout",
     "output_type": "stream",
     "text": [
      "Dark: 0  Flat: 21  Bias: 0\n"
     ]
    }
   ],
   "source": [
    "dark_exp_ids = exps.query(type = 'dark', scope='Prompt8', after = START_DATE, before = BEFORE_DATE, api_key= TOKEN2)\n",
    "flat_exp_ids = exps.query(type = 'flat', scope='Prompt8', after = START_DATE, before = BEFORE_DATE, api_key= TOKEN2)\n",
    "bias_exp_ids = exps.query(type = 'bias', scope='Prompt8', after = START_DATE, before = BEFORE_DATE, api_key= TOKEN2)\n",
    "print('Dark: {0}  Flat: {1}  Bias: {2}'.format(len(dark_exp_ids), len(flat_exp_ids), len(bias_exp_ids)))"
   ]
  },
  {
   "cell_type": "code",
   "execution_count": 23,
   "metadata": {
    "scrolled": true
   },
   "outputs": [
    {
     "name": "stdout",
     "output_type": "stream",
     "text": [
      "flat....\n",
      "\n",
      "19774375... Done \t(Remaining[20] files)\n",
      "19774376... Done \t(Remaining[19] files)\n",
      "19774377... Done \t(Remaining[18] files)\n",
      "19774378... Done \t(Remaining[17] files)\n",
      "19774379... Done \t(Remaining[16] files)\n",
      "19774385... Done \t(Remaining[15] files)\n",
      "19774393... Done \t(Remaining[14] files)\n",
      "19774400... Done \t(Remaining[13] files)\n",
      "19774405... Done \t(Remaining[12] files)\n",
      "19774406... Done \t(Remaining[11] files)\n",
      "19774407... Done \t(Remaining[10] files)\n",
      "19774408... Done \t(Remaining[9] files)\n",
      "19774409... Done \t(Remaining[8] files)\n",
      "19774410... Done \t(Remaining[7] files)\n",
      "19774415... Done \t(Remaining[6] files)\n",
      "19774416... Done \t(Remaining[5] files)\n",
      "19774417... Done \t(Remaining[4] files)\n",
      "19774418... Done \t(Remaining[3] files)\n",
      "19774432... Done \t(Remaining[2] files)\n",
      "19774433... Done \t(Remaining[1] files)\n",
      "19774434... Done \t(Remaining[0] files)\n",
      "bias....\n",
      "\n"
     ]
    }
   ],
   "source": [
    "'''print('dark....\\n')\n",
    "for index in range(len(dark_exp_ids))[150:]:\n",
    "    filename, data = dl.fits(image= 'r'+ str(dark_exp_ids[index]), api_key=TOKEN2)\n",
    "    with open(DARK_WRITE_DIR + filename, 'wb') as f:\n",
    "        f.write(data)\n",
    "    print(str(dark_exp_ids[index]) + '... Done \\t(Remaining' + str([len(dark_exp_ids) - (index+1)]) + ' files)')\n",
    "'''\n",
    "print('flat....\\n')    \n",
    "for index in range(len(flat_exp_ids)):\n",
    "    filename, data = dl.fits(image= 'r'+ str(flat_exp_ids[index]), api_key=TOKEN2)\n",
    "    with open(FLAT_WRITE_DIR + filename, 'wb') as f:\n",
    "        f.write(data)\n",
    "    print(str(flat_exp_ids[index]) + '... Done \\t(Remaining' + str([len(flat_exp_ids) - (index+1)]) + ' files)')\n",
    "\n",
    "\n",
    "print('bias....\\n')\n",
    "for index in range(len(bias_exp_ids)):\n",
    "    filename, data = dl.fits(image= 'r'+ str(bias_exp[index]), api_key=TOKEN2)\n",
    "    with open(BIAS_WRITE_DIR + filename, 'wb') as f:\n",
    "        f.write(data)\n",
    "    print(str(bias_exp[index]) + '... Done \\t(Remaining' + str([len(bias_exp) - (index+1)]) + ' files)')\n"
   ]
  },
  {
   "cell_type": "code",
   "execution_count": 183,
   "metadata": {
    "collapsed": true
   },
   "outputs": [
    {
     "name": "stdout",
     "output_type": "stream",
     "text": [
      "\n",
      "    Download image(s) in JPEG format\n",
      "\n",
      "    :param str api_key: optional API access key\n",
      "    :param kwargs:\n",
      "        image | images: requested image ID(s); multiple IDs are separated by\n",
      "            commas. An image ID consists of a single-character image type\n",
      "            identifier, followed by an image ID number. Type Identifiers:\n",
      "            \"r\" => raw exposure, \"m\" => master calibration image,\n",
      "            \"w\" => Afterglow workspace image, \"t\" => Afterglow temp image,\n",
      "            \"s\" => Afterglow sample image\n",
      "        obs | observations: requested observation ID(s); multiple IDs are\n",
      "            separated by commas\n",
      "        total_parts: split the ZIP archive returned into multiple parts and\n",
      "            return a single part per request; see also `part`. Ignored for a\n",
      "            single-image request.\n",
      "        part: if `total_parts` is set and > 1, this is the number of part to\n",
      "            return, starting from 1. Ignored for a single-image request.\n",
      "        wcs = 1: only images with world coordinate system (WCS) in their headers\n",
      "            will be returned. Ignored for a single-image request.\n",
      "        filter: when present, only images of the specified filter will be\n",
      "            returned. Ignored for a single-image request.\n",
      "        explen: when present, only images of the specified exposure length\n",
      "            (seconds) will be returned. Ignored for a single-image request.\n",
      "        reduce: bias, dark, and flat correct the requested image(s)\n",
      "        reducequiet: same as \"reduce\" except that in the event of a failure\n",
      "            during reduction the unreduced image is returned.\n",
      "        delta: maximum separation (in days) allowed between master calibration\n",
      "            images and the source image during reduction\n",
      "        mbias: override the auto-selection of master bias to be used in\n",
      "            calibration by specifying its ID. Presence of this variable will\n",
      "            automatically add the option \"reduce\". If set to 0, this type of\n",
      "            calibration will not be applied.\n",
      "        mdark: override the auto-selection of master dark to be used in\n",
      "            calibration by specifying its ID. Presence of this variable will\n",
      "            automatically add the option \"reduce\". If set to 0, this type of\n",
      "            calibration will not be applied.\n",
      "        mflat: override the auto-selection of master flat to be used in\n",
      "            calibration by specifying its ID.  Presence of this variable will\n",
      "            automatically add the option \"reduce\". If set to 0, this type of\n",
      "            calibration will not be applied.\n",
      "        remove_cosmics = 1: remove cosmic rays from the images; defaults to 1 if\n",
      "            reduce=1 and to 0 otherwise\n",
      "        find_cosmics = 1: return images containing only cosmic rays present in\n",
      "            the original images.\n",
      "        scale: scale images by the given factor\n",
      "        width: scale images to the given width\n",
      "        height: scale images to the given width\n",
      "        force_int: convert FITS images returned to unsigned 16 bit\n",
      "\n",
      "    :return: a pair (filename, data); for a single-image request, `data`\n",
      "        contains the FITS image; for a multiple-image request, `data` is the\n",
      "        ZIP archive contents\n",
      "    \n"
     ]
    }
   ],
   "source": [
    "print(dl.fits.__doc__)"
   ]
  },
  {
   "cell_type": "code",
   "execution_count": null,
   "metadata": {
    "collapsed": true
   },
   "outputs": [],
   "source": []
  }
 ],
 "metadata": {
  "kernelspec": {
   "display_name": "Python 3",
   "language": "python",
   "name": "python3"
  },
  "language_info": {
   "codemirror_mode": {
    "name": "ipython",
    "version": 3
   },
   "file_extension": ".py",
   "mimetype": "text/x-python",
   "name": "python",
   "nbconvert_exporter": "python",
   "pygments_lexer": "ipython3",
   "version": "3.6.3"
  }
 },
 "nbformat": 4,
 "nbformat_minor": 2
}
